{
 "cells": [
  {
   "cell_type": "code",
   "execution_count": 3,
   "id": "6a0abc5a",
   "metadata": {},
   "outputs": [],
   "source": [
    "def interactive_caesar_cipher():\n",
    "    \"\"\"\n",
    "    Interactively encrypts or decrypts a message using the Caesar cipher.\n",
    "    \"\"\"\n",
    "    text = input(\"Enter the text: \")\n",
    "    key = int(input(\"Enter the key (must be an integer): \"))\n",
    "    mode = input(\"Choose 'encode' to encrypt or 'decode' to decrypt: \")\n",
    "\n",
    "    if mode not in ['encode', 'decode']:\n",
    "        raise ValueError(\"Mode must be either 'encode' or 'decode'.\")\n",
    "\n",
    "    key = key % 26  # Normalize key to be within the alphabet range\n",
    "    result = ''\n",
    "\n",
    "    for char in text:\n",
    "        if 'a' <= char <= 'z':  # Lowercase letter range\n",
    "            start = ord('a')\n",
    "        elif 'A' <= char <= 'Z':  # Uppercase letter range\n",
    "            start = ord('A')\n",
    "        else:\n",
    "            result += char  # Non-alphabetical characters are not shifted\n",
    "            continue\n",
    "\n",
    "        # Shift character and preserve case\n",
    "        offset = ord(char) - start\n",
    "        if mode == 'encode':\n",
    "            shifted_char = chr((offset + key) % 26 + start)\n",
    "        else:\n",
    "            shifted_char = chr((offset - key) % 26 + start)\n",
    "\n",
    "        result += shifted_char\n",
    "\n",
    "    return result"
   ]
  },
  {
   "cell_type": "code",
   "execution_count": null,
   "id": "505e04a1",
   "metadata": {},
   "outputs": [],
   "source": [
    "output = interactive_caesar_cipher()\n",
    "print(output)"
   ]
  },
  {
   "cell_type": "code",
   "execution_count": null,
   "id": "c96118bc",
   "metadata": {},
   "outputs": [],
   "source": []
  }
 ],
 "metadata": {
  "kernelspec": {
   "display_name": "Python 3 (ipykernel)",
   "language": "python",
   "name": "python3"
  },
  "language_info": {
   "codemirror_mode": {
    "name": "ipython",
    "version": 3
   },
   "file_extension": ".py",
   "mimetype": "text/x-python",
   "name": "python",
   "nbconvert_exporter": "python",
   "pygments_lexer": "ipython3",
   "version": "3.11.5"
  }
 },
 "nbformat": 4,
 "nbformat_minor": 5
}
